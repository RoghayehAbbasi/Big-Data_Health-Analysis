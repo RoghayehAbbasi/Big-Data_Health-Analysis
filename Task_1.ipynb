{
  "cells": [
    {
      "cell_type": "code",
      "source": [
        "from google.colab import drive\n",
        "drive.mount('/content/drive')"
      ],
      "metadata": {
        "id": "rkrrc0l94MjY",
        "outputId": "d13318e6-7265-4748-c497-705bb65eb3ef",
        "colab": {
          "base_uri": "https://localhost:8080/"
        }
      },
      "execution_count": null,
      "outputs": [
        {
          "output_type": "stream",
          "name": "stdout",
          "text": [
            "Mounted at /content/drive\n"
          ]
        }
      ]
    },
    {
      "cell_type": "code",
      "source": [
        "#Setup Spark Environment:\n",
        "!apt-get install openjdk-8-jdk-headless -qq > /dev/null\n",
        "!wget -q https://archive.apache.org/dist/spark/spark-3.0.1/spark-3.0.1-bin-hadoop2.7.tgz\n",
        "!tar xf spark-3.0.1-bin-hadoop2.7.tgz\n",
        "!pip install -q findspark\n",
        "import os\n",
        "os.environ[\"JAVA_HOME\"] = \"/usr/lib/jvm/java-8-openjdk-amd64\"\n",
        "os.environ[\"SPARK_HOME\"] = \"/content/spark-3.0.1-bin-hadoop2.7\"\n",
        "import findspark\n",
        "findspark.init()\n"
      ],
      "metadata": {
        "id": "PsETR2qLCnzY"
      },
      "execution_count": null,
      "outputs": []
    },
    {
      "cell_type": "code",
      "source": [
        "# Initialize SparkContext:\n",
        "from pyspark import SparkContext\n",
        "try:\n",
        "    sc = SparkContext(\"local\", \"HealthcareRecoveryAnalysis\")\n",
        "except ValueError:\n",
        "    print(\"SparkContext already exists.\")\n"
      ],
      "metadata": {
        "id": "Z1I0UeyXCr4X"
      },
      "execution_count": null,
      "outputs": []
    },
    {
      "cell_type": "code",
      "source": [
        "# Load the Data and Verify:\n",
        "file_path = \"/content/drive/MyDrive/Colab Notebooks/Data transformation/ExportCSV.csv\"\n",
        "data_rdd = sc.textFile(file_path)\n",
        "\n",
        "# Preview the data to confirm structure\n",
        "print(\"Data preview:\", data_rdd.take(5))\n"
      ],
      "metadata": {
        "id": "TXrIRJupDEiO",
        "outputId": "dfa52f7c-f7ce-4d4c-d247-741dabec834f",
        "colab": {
          "base_uri": "https://localhost:8080/"
        }
      },
      "execution_count": null,
      "outputs": [
        {
          "output_type": "stream",
          "name": "stdout",
          "text": [
            "Data preview: ['Patient ID,Patient Name,Patient Last Name,Gender,Age group,Location,BMI,Diabetes,Blood pressure Systolic,Blood pressure Diastolic,Hear Rate,Smoking Status,Alcohol Use,Exercise level,Type of surgery,Surgery duration,Anaesthesia Type,Recovery Time,Length of hospital stay,Pain levels,Physical Therapy Sessions,Infection occurrence', '1,Percy,Olivier,Male,4,Lesotho,14.4346038063218,1,16,16.5702644365701,52,1,1,33.2785492368408,1,7.90176550666884,1,15,25,6,3,0', '2,Boris,Addis,Male,3,Uzbekistan,54.2754787841232,0,5,5.6898040360258,68,0,0,6.90878864233791,0,5.06706765902558,0,3,30,4,5,1', '3,Tony,Poulton,Male,1,Saudi Arabia,28.9115789341329,0,8,12.7164000383189,189,0,1,32.5247485854313,1,7.58874520081503,1,17,21,6,4,1', '4,Molly,Wild,Female,3,Tonga,24.8498306208522,0,14,4.92664265023854,167,0,0,11.7092604347082,1,6.19238860401902,0,13,9,3,4,0']\n"
          ]
        }
      ]
    },
    {
      "cell_type": "code",
      "source": [
        "pip install pyspark"
      ],
      "metadata": {
        "id": "7Hjb7KeDC22C",
        "outputId": "8149dd3a-64d3-446c-f0f8-157ae812333a",
        "colab": {
          "base_uri": "https://localhost:8080/"
        }
      },
      "execution_count": null,
      "outputs": [
        {
          "output_type": "stream",
          "name": "stdout",
          "text": [
            "Requirement already satisfied: pyspark in /usr/local/lib/python3.10/dist-packages (3.5.3)\n",
            "Requirement already satisfied: py4j==0.10.9.7 in /usr/local/lib/python3.10/dist-packages (from pyspark) (0.10.9.7)\n"
          ]
        }
      ]
    },
    {
      "cell_type": "code",
      "source": [
        "# Filter Out the Header and Parse Rows:\n",
        "header = data_rdd.first()  # Extract the header row\n",
        "data_rdd = data_rdd.filter(lambda row: row != header)  # Filter out the header\n"
      ],
      "metadata": {
        "id": "J1ARtnrWCxRx"
      },
      "execution_count": null,
      "outputs": []
    },
    {
      "cell_type": "code",
      "source": [
        "# Extract Features and Handle Errors:\n",
        "def extract_features(record):\n",
        "    fields = record.split(\",\")\n",
        "    try:\n",
        "        age_group = int(fields[4].strip())\n",
        "        diabetes_status = int(fields[7].strip())\n",
        "        recovery_time = int(fields[17].strip())\n",
        "        return (diabetes_status, age_group, recovery_time)\n",
        "    except (ValueError, IndexError) as e:\n",
        "        print(f\"Skipping row due to error: {e}\")\n",
        "        return None\n",
        "\n",
        "features_rdd = data_rdd.map(extract_features).filter(lambda x: x is not None)\n"
      ],
      "metadata": {
        "id": "HTkHJhgaDLwL"
      },
      "execution_count": null,
      "outputs": []
    },
    {
      "cell_type": "code",
      "source": [
        "# Aggregate and Calculate Averages:\n",
        "mapped_rdd = features_rdd.map(lambda x: ((x[0], x[1]), (x[2], 1)))\n",
        "reduced_rdd = mapped_rdd.reduceByKey(lambda a, b: (a[0] + b[0], a[1] + b[1]))\n",
        "average_recovery_rdd = reduced_rdd.mapValues(lambda x: x[0] / x[1])\n"
      ],
      "metadata": {
        "id": "8ckVoE3ADOZX"
      },
      "execution_count": null,
      "outputs": []
    },
    {
      "cell_type": "code",
      "source": [
        "# Display Results\n",
        "age_group_labels = {0: \"18-30\", 1: \"31-45\", 2: \"46-60\", 3: \"61-75\", 4: \"76+\"}\n",
        "results = average_recovery_rdd.collect()\n",
        "\n",
        "for (diabetes_status, age_group), avg_recovery_time in results:\n",
        "    diabetes_text = \"Diabetic\" if diabetes_status == 1 else \"Non-Diabetic\"\n",
        "    age_group_text = age_group_labels.get(age_group, \"Unknown\")\n",
        "    print(f\"Diabetes Status: {diabetes_text}, Age Group: {age_group_text}, Average Recovery Time: {avg_recovery_time:.2f} days\")\n"
      ],
      "metadata": {
        "id": "J_C8VocgDRQw",
        "outputId": "2aaedf3c-8c7e-4842-d04e-8b8e8874ac92",
        "colab": {
          "base_uri": "https://localhost:8080/"
        }
      },
      "execution_count": null,
      "outputs": [
        {
          "output_type": "stream",
          "name": "stdout",
          "text": [
            "Diabetes Status: Diabetic, Age Group: 76+, Average Recovery Time: 15.56 days\n",
            "Diabetes Status: Non-Diabetic, Age Group: 61-75, Average Recovery Time: 15.49 days\n",
            "Diabetes Status: Non-Diabetic, Age Group: 31-45, Average Recovery Time: 15.56 days\n",
            "Diabetes Status: Non-Diabetic, Age Group: 46-60, Average Recovery Time: 15.45 days\n",
            "Diabetes Status: Diabetic, Age Group: 18-30, Average Recovery Time: 15.46 days\n",
            "Diabetes Status: Diabetic, Age Group: 61-75, Average Recovery Time: 15.43 days\n",
            "Diabetes Status: Non-Diabetic, Age Group: 18-30, Average Recovery Time: 15.54 days\n",
            "Diabetes Status: Diabetic, Age Group: 31-45, Average Recovery Time: 15.51 days\n",
            "Diabetes Status: Non-Diabetic, Age Group: 76+, Average Recovery Time: 15.50 days\n",
            "Diabetes Status: Diabetic, Age Group: 46-60, Average Recovery Time: 15.57 days\n"
          ]
        }
      ]
    },
    {
      "cell_type": "code",
      "source": [
        "sc.stop()\n"
      ],
      "metadata": {
        "id": "c5nHPdRcDUtT"
      },
      "execution_count": null,
      "outputs": []
    }
  ],
  "metadata": {
    "colab": {
      "provenance": []
    },
    "kernelspec": {
      "display_name": "Python 3",
      "name": "python3"
    }
  },
  "nbformat": 4,
  "nbformat_minor": 0
}