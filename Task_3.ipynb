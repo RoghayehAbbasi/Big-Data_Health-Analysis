{
  "nbformat": 4,
  "nbformat_minor": 0,
  "metadata": {
    "colab": {
      "provenance": []
    },
    "kernelspec": {
      "name": "python3",
      "display_name": "Python 3"
    },
    "language_info": {
      "name": "python"
    }
  },
  "cells": [
    {
      "cell_type": "code",
      "source": [
        "from google.colab import drive\n",
        "drive.mount('/content/drive')"
      ],
      "metadata": {
        "id": "rkrrc0l94MjY",
        "outputId": "af555fdc-59fd-4b25-e003-51411161a37c",
        "colab": {
          "base_uri": "https://localhost:8080/"
        }
      },
      "execution_count": 74,
      "outputs": [
        {
          "output_type": "stream",
          "name": "stdout",
          "text": [
            "Drive already mounted at /content/drive; to attempt to forcibly remount, call drive.mount(\"/content/drive\", force_remount=True).\n"
          ]
        }
      ]
    },
    {
      "cell_type": "code",
      "source": [
        "#Setup Spark Environment:\n",
        "!apt-get install openjdk-8-jdk-headless -qq > /dev/null\n",
        "!wget -q https://archive.apache.org/dist/spark/spark-3.0.1/spark-3.0.1-bin-hadoop2.7.tgz\n",
        "!tar xf spark-3.0.1-bin-hadoop2.7.tgz\n",
        "!pip install -q findspark\n",
        "import os\n",
        "os.environ[\"JAVA_HOME\"] = \"/usr/lib/jvm/java-8-openjdk-amd64\"\n",
        "os.environ[\"SPARK_HOME\"] = \"/content/spark-3.0.1-bin-hadoop2.7\"\n",
        "import findspark\n",
        "findspark.init()\n"
      ],
      "metadata": {
        "id": "6MTxK9pToF6B"
      },
      "execution_count": 75,
      "outputs": []
    },
    {
      "cell_type": "code",
      "source": [
        "# Initialize SparkContext:\n",
        "from pyspark import SparkContext\n",
        "try:\n",
        "    sc = SparkContext(\"local\", \"HealthcareRecoveryAnalysis\")\n",
        "except ValueError:\n",
        "    print(\"SparkContext already exists.\")"
      ],
      "metadata": {
        "colab": {
          "base_uri": "https://localhost:8080/"
        },
        "id": "NSqjeGpAoJn5",
        "outputId": "3070dab4-4364-49e0-d241-bf7b522d464a"
      },
      "execution_count": 92,
      "outputs": [
        {
          "output_type": "stream",
          "name": "stdout",
          "text": [
            "SparkContext already exists.\n"
          ]
        }
      ]
    },
    {
      "cell_type": "code",
      "source": [
        "# Load the Data and Verify:\n",
        "file_path = \"/content/drive/MyDrive/Colab Notebooks/Data transformation/ExportCSV.csv\"\n",
        "data_rdd = sc.textFile(file_path)\n",
        "\n",
        "# Preview the data to confirm structure\n",
        "print(\"Data preview:\", data_rdd.take(5))\n"
      ],
      "metadata": {
        "colab": {
          "base_uri": "https://localhost:8080/"
        },
        "id": "OAhYNq8UoL66",
        "outputId": "aafc2405-4a3c-4e9d-c1f8-15ceaa82ec14"
      },
      "execution_count": 93,
      "outputs": [
        {
          "output_type": "stream",
          "name": "stdout",
          "text": [
            "Data preview: ['Patient ID,Patient Name,Patient Last Name,Gender,Age group,Location,BMI,Diabetes,Blood pressure Systolic,Blood pressure Diastolic,Hear Rate,Smoking Status,Alcohol Use,Exercise level,Type of surgery,Surgery duration,Anaesthesia Type,Recovery Time,Length of hospital stay,Pain levels,Physical Therapy Sessions,Infection occurrence', '1,Percy,Olivier,Male,4,Lesotho,14.4346038063218,1,16,16.5702644365701,52,1,1,33.2785492368408,1,7.90176550666884,1,15,25,6,3,0', '2,Boris,Addis,Male,3,Uzbekistan,54.2754787841232,0,5,5.6898040360258,68,0,0,6.90878864233791,0,5.06706765902558,0,3,30,4,5,1', '3,Tony,Poulton,Male,1,Saudi Arabia,28.9115789341329,0,8,12.7164000383189,189,0,1,32.5247485854313,1,7.58874520081503,1,17,21,6,4,1', '4,Molly,Wild,Female,3,Tonga,24.8498306208522,0,14,4.92664265023854,167,0,0,11.7092604347082,1,6.19238860401902,0,13,9,3,4,0']\n"
          ]
        }
      ]
    },
    {
      "cell_type": "code",
      "source": [
        "pip install pyspark"
      ],
      "metadata": {
        "colab": {
          "base_uri": "https://localhost:8080/"
        },
        "id": "3Hhmti1SoOF0",
        "outputId": "f008d210-00f3-4c03-d349-077722688c2c"
      },
      "execution_count": 53,
      "outputs": [
        {
          "output_type": "stream",
          "name": "stdout",
          "text": [
            "Requirement already satisfied: pyspark in /usr/local/lib/python3.10/dist-packages (3.5.3)\n",
            "Requirement already satisfied: py4j==0.10.9.7 in /usr/local/lib/python3.10/dist-packages (from pyspark) (0.10.9.7)\n"
          ]
        }
      ]
    },
    {
      "cell_type": "code",
      "source": [
        "# Filter Out the Header and Parse Rows:\n",
        "header = data_rdd.first()  # Extract the header row\n",
        "data_rdd = data_rdd.filter(lambda row: row != header)  # Filter out the header\n"
      ],
      "metadata": {
        "id": "uzQQgLmkoQH5"
      },
      "execution_count": 94,
      "outputs": []
    },
    {
      "cell_type": "code",
      "source": [
        "# Define a function to extract features and ensure binary values\n",
        "def extract_features(record):\n",
        "    fields = record.split(\",\")\n",
        "    try:\n",
        "        smoking_status = int(fields[11].strip())  # Smoking Status\n",
        "        alcohol_use = int(fields[12].strip())  # Alcohol Use\n",
        "        recovery_time = float(fields[17].strip())  # Recovery Time\n",
        "\n",
        "        # Ensure binary values for Smoking Status and Alcohol Use\n",
        "        if smoking_status in {0, 1} and alcohol_use in {0, 1}:\n",
        "            return ((smoking_status, alcohol_use), (recovery_time, 1))\n",
        "        else:\n",
        "            print(f\"Skipping row due to non-binary values: Smoking Status={smoking_status}, Alcohol Use={alcohol_use}\")\n",
        "            return None\n",
        "    except (ValueError, IndexError) as e:\n",
        "        print(f\"Skipping row due to error: {e}\")\n",
        "        return None\n",
        "\n",
        "# Apply extraction and filter out None results\n",
        "features_rdd = data_rdd.map(extract_features).filter(lambda x: x is not None)\n",
        "\n",
        "# Aggregate by key to calculate the total recovery time and count for each combination\n",
        "aggregated_rdd = features_rdd.reduceByKey(lambda a, b: (a[0] + b[0], a[1] + b[1]))\n",
        "\n",
        "# Calculate the average recovery time for each combination\n",
        "average_recovery_rdd = aggregated_rdd.mapValues(lambda x: x[0] / x[1])\n",
        "\n",
        "# Collect and print results to verify the number of unique combinations\n",
        "results = average_recovery_rdd.collect()\n",
        "print(\"Number of unique combinations:\", len(results))\n",
        "\n",
        "# Interpret and display the results\n",
        "for (smoking_status, alcohol_use), avg_recovery_time in results:\n",
        "    smoking_text = \"Smoker\" if smoking_status == 1 else \"Non-Smoker\"\n",
        "    alcohol_text = \"Alcohol User\" if alcohol_use == 1 else \"Non-Alcohol User\"\n",
        "    print(f\"Smoking Status: {smoking_text}, Alcohol Use: {alcohol_text}, Average Recovery Time: {avg_recovery_time:.2f} days\")\n",
        "\n",
        "# Stop the SparkContext\n",
        "sc.stop()"
      ],
      "metadata": {
        "colab": {
          "base_uri": "https://localhost:8080/"
        },
        "id": "ZLhEkMV7xJlx",
        "outputId": "d576240f-9469-4109-e6ed-d07d6b15f647"
      },
      "execution_count": 95,
      "outputs": [
        {
          "output_type": "stream",
          "name": "stdout",
          "text": [
            "Number of unique combinations: 4\n",
            "Smoking Status: Smoker, Alcohol Use: Alcohol User, Average Recovery Time: 15.52 days\n",
            "Smoking Status: Non-Smoker, Alcohol Use: Non-Alcohol User, Average Recovery Time: 15.51 days\n",
            "Smoking Status: Non-Smoker, Alcohol Use: Alcohol User, Average Recovery Time: 15.52 days\n",
            "Smoking Status: Smoker, Alcohol Use: Non-Alcohol User, Average Recovery Time: 15.48 days\n"
          ]
        }
      ]
    }
  ]
}